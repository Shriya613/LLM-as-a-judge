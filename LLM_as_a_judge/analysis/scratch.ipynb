{
 "cells": [
  {
   "cell_type": "code",
   "execution_count": 1,
   "metadata": {},
   "outputs": [],
   "source": [
    "import pandas as pd"
   ]
  },
  {
   "cell_type": "code",
   "execution_count": null,
   "metadata": {},
   "outputs": [],
   "source": []
  },
  {
   "cell_type": "code",
   "execution_count": null,
   "metadata": {},
   "outputs": [],
   "source": []
  },
  {
   "cell_type": "code",
   "execution_count": 2,
   "metadata": {},
   "outputs": [
    {
     "name": "stdout",
     "output_type": "stream",
     "text": [
      "Length of cr_lm_df: 24300\n",
      "Length of cr_human_df: 1200\n",
      "Length of cr_combo_filtered_df: 10920\n",
      "\n",
      "Length of qa_lm_df: 30000\n",
      "Length of qa_human_df: 1080\n",
      "Length of qa_combo_filtered_df: 13080\n"
     ]
    }
   ],
   "source": [
    "cr_lm_df = pd.read_csv(\"../judgements/judgements_writing_prompts_HQ_20250312_113801.csv\")\n",
    "cr_human_df = pd.read_csv(\"../annotation/human_judgements_writing_prompts_corrected.csv\")\n",
    "cr_combo_filtered_df = pd.read_csv(\"../judgements/judgements_writing_prompts_combined_with_humans.csv\")\n",
    "\n",
    "qa_lm_df = pd.read_csv(\"../judgements/judgements_eli5_HQ_20250311_213806.csv\")\n",
    "qa_human_df = pd.read_csv(\"../annotation/human_judgements_eli5_corrected.csv\")\n",
    "qa_combo_filtered_df = pd.read_csv(\"../judgements/judgements_eli5_combined_with_humans.csv\")\n",
    "\n",
    "print(f\"Length of cr_lm_df: {len(cr_lm_df)}\")\n",
    "print(f\"Length of cr_human_df: {len(cr_human_df)}\")\n",
    "print(f\"Length of cr_combo_filtered_df: {len(cr_combo_filtered_df)}\\n\")\n",
    "\n",
    "print(f\"Length of qa_lm_df: {len(qa_lm_df)}\")\n",
    "print(f\"Length of qa_human_df: {len(qa_human_df)}\")\n",
    "print(f\"Length of qa_combo_filtered_df: {len(qa_combo_filtered_df)}\")"
   ]
  },
  {
   "cell_type": "code",
   "execution_count": 7,
   "metadata": {},
   "outputs": [
    {
     "name": "stdout",
     "output_type": "stream",
     "text": [
      "['Plot' 'Character' 'Style' 'Emotion' 'Flow' 'Dialogue']\n",
      "\n",
      "['Clarity' 'Coherence' 'Conciseness' 'Creativity' 'Factuality' 'Relevancy']\n",
      "\n",
      "['Plot' 'Character' 'Style' 'Emotion' 'Flow' 'Dialogue' 'Clarity'\n",
      " 'Coherence' 'Conciseness' 'Creativity' 'Factuality' 'Relevancy']\n",
      "\n",
      "['Relevancy' 'Factuality' 'Clarity' 'Creativity' 'Coherence' 'Conciseness']\n",
      "\n",
      "['Character' 'Dialogue' 'Emotion' 'Flow' 'Plot' 'Style']\n",
      "\n",
      "['Relevancy' 'Factuality' 'Clarity' 'Creativity' 'Coherence' 'Conciseness'\n",
      " 'Character' 'Dialogue' 'Emotion' 'Flow' 'Plot' 'Style']\n",
      "\n"
     ]
    }
   ],
   "source": [
    "for df in cr_lm_df, cr_human_df, cr_combo_filtered_df, qa_lm_df, qa_human_df, qa_combo_filtered_df:\n",
    "    print(df[\"criteria\"].unique(), end=\"\\n\\n\")"
   ]
  }
 ],
 "metadata": {
  "kernelspec": {
   "display_name": "venv",
   "language": "python",
   "name": "python3"
  },
  "language_info": {
   "codemirror_mode": {
    "name": "ipython",
    "version": 3
   },
   "file_extension": ".py",
   "mimetype": "text/x-python",
   "name": "python",
   "nbconvert_exporter": "python",
   "pygments_lexer": "ipython3",
   "version": "3.11.1"
  }
 },
 "nbformat": 4,
 "nbformat_minor": 2
}
